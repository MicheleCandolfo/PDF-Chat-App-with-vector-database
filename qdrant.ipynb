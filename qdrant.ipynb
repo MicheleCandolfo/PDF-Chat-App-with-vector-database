{
 "cells": [
  {
   "cell_type": "code",
   "execution_count": 1,
   "metadata": {},
   "outputs": [],
   "source": [
    "from langchain.vectorstores import Qdrant\n",
    "from langchain.embeddings.openai import OpenAIEmbeddings\n",
    "import qdrant_client \n",
    "import os\n",
    "from dotenv import load_dotenv\n",
    "from qdrant_client.http import models\n",
    "from PyPDF2 import PdfReader\n",
    "from langchain.text_splitter import CharacterTextSplitter, RecursiveCharacterTextSplitter\n",
    "import PyPDF2\n",
    "from langchain.chains import RetrievalQA\n",
    "from langchain.llms import OpenAI"
   ]
  },
  {
   "cell_type": "markdown",
   "metadata": {},
   "source": [
    "### Create a qdrant client"
   ]
  },
  {
   "cell_type": "code",
   "execution_count": 2,
   "metadata": {},
   "outputs": [],
   "source": [
    "load_dotenv()\n",
    "\n",
    "os.environ['QDRANT_HOST'] = os.getenv(\"QDRANT_HOST\")\n",
    "os.environ['QDRANT_API_KEY'] = os.getenv(\"QDRANT_API_KEY\")\n",
    "\n",
    "client = qdrant_client.QdrantClient(\n",
    "    os.getenv(\"QDRANT_HOST\"),\n",
    "    api_key=os.getenv(\"QDRANT_API_KEY\")\n",
    ")"
   ]
  },
  {
   "cell_type": "markdown",
   "metadata": {},
   "source": [
    "### Create collection"
   ]
  },
  {
   "cell_type": "code",
   "execution_count": null,
   "metadata": {},
   "outputs": [],
   "source": [
    "os.environ['QDRANT_COLLECTION_NAME'] = \"my-collection\"\n",
    "\n",
    "vectors_config = models.VectorParams(\n",
    "    size=1536, #1536 for OpenAI\n",
    "    distance=models.Distance.COSINE\n",
    "    )\n",
    "\n",
    "client.recreate_collection(\n",
    "    collection_name=os.getenv(\"QDRANT_COLLECTION_NAME\"),\n",
    "    vectors_config=vectors_config\n",
    ")    "
   ]
  },
  {
   "cell_type": "markdown",
   "metadata": {},
   "source": [
    "### Create vector store"
   ]
  },
  {
   "cell_type": "code",
   "execution_count": 3,
   "metadata": {},
   "outputs": [],
   "source": [
    "embeddings = OpenAIEmbeddings()\n",
    "\n",
    "vector_store = Qdrant(\n",
    "    client=client, \n",
    "    collection_name=os.getenv(\"QDRANT_COLLECTION_NAME\"), \n",
    "    embeddings=embeddings,\n",
    ")"
   ]
  },
  {
   "cell_type": "markdown",
   "metadata": {},
   "source": [
    "### Add documents to vectore store"
   ]
  },
  {
   "cell_type": "code",
   "execution_count": 4,
   "metadata": {},
   "outputs": [],
   "source": [
    "# extract the text of the pdf file\n",
    "def get_pdf_text(filename):\n",
    "    text = \"\"\n",
    "    with open(filename, \"rb\") as f:\n",
    "        pdf = PyPDF2.PdfReader(f)\n",
    "        for page in range(len(pdf.pages)):\n",
    "            pdf_page = pdf.pages[page]\n",
    "            text += pdf_page.extract_text()\n",
    "    return text\n",
    "\n",
    "# create chunks of the extracted text\n",
    "def get_text_chunks(text):\n",
    "    text_splitter = RecursiveCharacterTextSplitter(\n",
    "        separators=[\" \", \",\", \"\\n\"],\n",
    "        chunk_size=1000,\n",
    "        chunk_overlap=100,\n",
    "        length_function=len\n",
    "    )\n",
    "    chunks = text_splitter.split_text(text)\n",
    "    return chunks"
   ]
  },
  {
   "cell_type": "code",
   "execution_count": null,
   "metadata": {},
   "outputs": [],
   "source": [
    "# add the specific pdf to the vector database\n",
    "\n",
    "text = get_pdf_text(\"ISTQB-CT-TAE_Syllabus_v1.0_2016.pdf\")\n",
    "chunks = get_text_chunks(text)\n",
    "\n",
    "vector_store.add_texts(chunks)"
   ]
  },
  {
   "cell_type": "markdown",
   "metadata": {},
   "source": [
    "### Initializing a retrieval-based question-answering system and testing it"
   ]
  },
  {
   "cell_type": "code",
   "execution_count": 6,
   "metadata": {},
   "outputs": [],
   "source": [
    "# plug vectore store into retrieval chain \n",
    "\n",
    "qa = RetrievalQA.from_chain_type(\n",
    "    llm=OpenAI(),\n",
    "    chain_type=\"stuff\",\n",
    "    retriever=vector_store.as_retriever()\n",
    ")"
   ]
  },
  {
   "cell_type": "code",
   "execution_count": null,
   "metadata": {},
   "outputs": [],
   "source": [
    "query = \"Was ist Risikobasierte Testautomation?\"\n",
    "\n",
    "response = qa.run(query)\n",
    "\n",
    "print(response)"
   ]
  }
 ],
 "metadata": {
  "kernelspec": {
   "display_name": "venv",
   "language": "python",
   "name": "python3"
  },
  "language_info": {
   "codemirror_mode": {
    "name": "ipython",
    "version": 3
   },
   "file_extension": ".py",
   "mimetype": "text/x-python",
   "name": "python",
   "nbconvert_exporter": "python",
   "pygments_lexer": "ipython3",
   "version": "3.11.4"
  },
  "orig_nbformat": 4
 },
 "nbformat": 4,
 "nbformat_minor": 2
}
